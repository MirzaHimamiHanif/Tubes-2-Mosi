{
  "nbformat": 4,
  "nbformat_minor": 0,
  "metadata": {
    "colab": {
      "name": "Code Tubes 2 MOSI.ipynb",
      "provenance": [],
      "collapsed_sections": [],
      "machine_shape": "hm",
      "include_colab_link": true
    },
    "kernelspec": {
      "name": "python3",
      "display_name": "Python 3"
    }
  },
  "cells": [
    {
      "cell_type": "markdown",
      "metadata": {
        "id": "view-in-github",
        "colab_type": "text"
      },
      "source": [
        "<a href=\"https://colab.research.google.com/github/MirzaHimamiHanif/Tubes-2-Mosi/blob/master/Code_Tubes_2_MOSI.ipynb\" target=\"_parent\"><img src=\"https://colab.research.google.com/assets/colab-badge.svg\" alt=\"Open In Colab\"/></a>"
      ]
    },
    {
      "cell_type": "code",
      "metadata": {
        "id": "8fVpTQKRQEvk",
        "colab_type": "code",
        "colab": {}
      },
      "source": [
        "import numpy as np\n",
        "import matplotlib.pyplot as plt\n",
        "from matplotlib.animation import FuncAnimation\n",
        "from matplotlib import rc\n",
        "from IPython.display import HTML\n",
        "import random"
      ],
      "execution_count": 0,
      "outputs": []
    },
    {
      "cell_type": "code",
      "metadata": {
        "id": "IgNaxC-lQKHf",
        "colab_type": "code",
        "colab": {}
      },
      "source": [
        "n_individu = 200\n",
        "infection_ratio = 0.05\n",
        "move_probability = 0.8\n",
        "recovery_time = 10\n",
        "x_min = 0\n",
        "x_max = 20\n",
        "y_min = 0\n",
        "y_max = 20"
      ],
      "execution_count": 0,
      "outputs": []
    },
    {
      "cell_type": "code",
      "metadata": {
        "id": "hzIAfhPhQGK0",
        "colab_type": "code",
        "colab": {}
      },
      "source": [
        "class Individu:\n",
        "  def __init__(self, x, y, infected_status, imunity_status, infection_time):\n",
        "    self.x = x\n",
        "    self.y = y\n",
        "    self.infected_status = infected_status\n",
        "    self.imunity_status = imunity_status\n",
        "    self.infection_time = infection_time\n",
        "    self.color = \"red\" if infected_status==True else \"green\""
      ],
      "execution_count": 0,
      "outputs": []
    },
    {
      "cell_type": "markdown",
      "metadata": {
        "id": "s79XTTPYQQC8",
        "colab_type": "text"
      },
      "source": [
        "* 1 = Atas\n",
        "* 2 = Kanan\n",
        "* 3 = Bawah\n",
        "* 4 = Kiri"
      ]
    },
    {
      "cell_type": "code",
      "metadata": {
        "id": "yB5pkI5EQNFg",
        "colab_type": "code",
        "outputId": "6249b7a9-ad56-4b61-dfe6-85d54a449d7d",
        "colab": {
          "base_uri": "https://localhost:8080/",
          "height": 265
        }
      },
      "source": [
        "fig, ax = plt.subplots()\n",
        "ln = [plt.plot([], [], 'ro')[0] for i in range(0, n_individu)]\n",
        "patches = ln\n",
        " \n",
        "#init\n",
        "infection_individu = 0\n",
        "walk_community=[]\n",
        "community = []\n",
        "for i in range(0, n_individu):\n",
        "  random_healt_rate = random.uniform(0, 1);\n",
        "  if infection_individu<=infection_ratio*n_individu:\n",
        "    individu = Individu(random.randint(x_min, x_max), random.randint(y_min, y_max), True, False, 0)\n",
        "    infection_individu+=1\n",
        "  else:\n",
        "    individu = Individu(random.randint(x_min, x_max), random.randint(y_min, y_max), False, False, 0)\n",
        "  community.append(individu)\n",
        "walk_community.append(community[:])"
      ],
      "execution_count": 4,
      "outputs": [
        {
          "output_type": "display_data",
          "data": {
            "image/png": "[encoded data removed]",
            "text/plain": [
              "<Figure size 432x288 with 1 Axes>"
            ]
          },
          "metadata": {
            "tags": [],
            "needs_background": "light"
          }
        }
      ]
    }
  ]
}