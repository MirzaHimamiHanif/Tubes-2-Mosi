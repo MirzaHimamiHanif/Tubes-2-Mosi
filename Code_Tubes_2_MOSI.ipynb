{
  "cells": [
    {
      "cell_type": "markdown",
      "metadata": {
        "id": "view-in-github",
        "colab_type": "text"
      },
      "source": [
        "<a href=\"https://colab.research.google.com/github/MirzaHimamiHanif/Tubes-2-Mosi/blob/master/Code_Tubes_2_MOSI.ipynb\" target=\"_parent\"><img src=\"https://colab.research.google.com/assets/colab-badge.svg\" alt=\"Open In Colab\"/></a>"
      ]
    },
    {
      "cell_type": "code",
      "metadata": {
        "id": "8fVpTQKRQEvk",
        "colab_type": "code",
        "colab": {}
      },
      "source": [
        "import numpy as np\n",
        "import matplotlib.pyplot as plt\n",
        "from matplotlib.animation import FuncAnimation\n",
        "from matplotlib import rc\n",
        "from IPython.display import HTML\n",
        "import random"
      ],
      "execution_count": 1,
      "outputs": []
    },
    {
      "cell_type": "code",
      "metadata": {
        "id": "IgNaxC-lQKHf",
        "colab_type": "code",
        "colab": {}
      },
      "source": [
        "n_individu = 200\n",
        "infection_ratio = 0.05\n",
        "move_probability = 0.8\n",
        "recovery_time = 10\n",
        "x_min = 0\n",
        "x_max = 20\n",
        "y_min = 0\n",
        "y_max = 20"
      ],
      "execution_count": 2,
      "outputs": []
    },
    {
      "cell_type": "code",
      "metadata": {
        "id": "hzIAfhPhQGK0",
        "colab_type": "code",
        "colab": {}
      },
      "source": [
        "class Individu:\n",
        "  def __init__(self, x, y, infected_status, imunity_status, infection_time):\n",
        "    self.x = x\n",
        "    self.y = y\n",
        "    self.infected_status = infected_status\n",
        "    self.imunity_status = imunity_status\n",
        "    self.infection_time = infection_time\n",
        "    self.color = \"red\" if infected_status==True else \"green\""
      ],
      "execution_count": 3,
      "outputs": []
    },
    {
      "cell_type": "markdown",
      "metadata": {
        "id": "s79XTTPYQQC8",
        "colab_type": "text"
      },
      "source": [
        "* 1 = Atas\n",
        "* 2 = Kanan\n",
        "* 3 = Bawah\n",
        "* 4 = Kiri"
      ]
    },
    {
      "cell_type": "code",
      "metadata": {
        "id": "yB5pkI5EQNFg",
        "colab_type": "code",
        "outputId": "6249b7a9-ad56-4b61-dfe6-85d54a449d7d",
        "colab": {
          "base_uri": "https://localhost:8080/",
          "height": 265
        }
      },
      "source": [
        "fig, ax = plt.subplots()\n",
        "ln = [plt.plot([], [], 'ro')[0] for i in range(0, n_individu)]\n",
        "patches = ln\n",
        " \n",
        "#init\n",
        "infection_individu = 0\n",
        "walk_community=[]\n",
        "community = []\n",
        "for i in range(0, n_individu):\n",
        "  random_healt_rate = random.uniform(0, 1);\n",
        "  if infection_individu<=infection_ratio*n_individu:\n",
        "    individu = Individu(random.randint(x_min, x_max), random.randint(y_min, y_max), True, False, 0)\n",
        "    infection_individu+=1\n",
        "  else:\n",
        "    individu = Individu(random.randint(x_min, x_max), random.randint(y_min, y_max), False, False, 0)\n",
        "  community.append(individu)\n",
        "walk_community.append(community[:])"
      ],
      "execution_count": 4,
      "outputs": [
        {
          "output_type": "display_data",
          "data": {
            "text/plain": "<Figure size 432x288 with 1 Axes>",
            "image/svg+xml": "<?xml version=\"1.0\" encoding=\"utf-8\" standalone=\"no\"?>\n<!DOCTYPE svg PUBLIC \"-//W3C//DTD SVG 1.1//EN\"\n  \"http://www.w3.org/Graphics/SVG/1.1/DTD/svg11.dtd\">\n<!-- Created with matplotlib (https://matplotlib.org/) -->\n<svg height=\"271.794688pt\" version=\"1.1\" viewBox=\"0 0 380.482812 271.794688\" width=\"380.482812pt\" xmlns=\"http://www.w3.org/2000/svg\" xmlns:xlink=\"http://www.w3.org/1999/xlink\">\n <defs>\n  <style type=\"text/css\">\n*{stroke-linecap:butt;stroke-linejoin:round;}\n  </style>\n </defs>\n <g id=\"figure_1\">\n  <g id=\"patch_1\">\n   <path d=\"M -0 271.794688 \nL 380.482812 271.794688 \nL 380.482812 0 \nL -0 0 \nz\n\" style=\"fill:none;\"/>\n  </g>\n  <g id=\"axes_1\">\n   <g id=\"patch_2\">\n    <path d=\"M 38.482813 235.238438 \nL 373.282813 235.238438 \nL 373.282813 17.798438 \nL 38.482813 17.798438 \nz\n\" style=\"fill:#ffffff;\"/>\n   </g>\n   <g id=\"matplotlib.axis_1\">\n    <g id=\"xtick_1\">\n     <g id=\"line2d_1\">\n      <defs>\n       <path d=\"M 0 0 \nL 0 3.5 \n\" id=\"m1a20e81c39\" style=\"stroke:#000000;stroke-width:0.8;\"/>\n      </defs>\n      <g>\n       <use style=\"stroke:#000000;stroke-width:0.8;\" x=\"73.658997\" xlink:href=\"#m1a20e81c39\" y=\"235.238438\"/>\n      </g>\n     </g>\n     <g id=\"text_1\">\n      <!-- −7.5 -->\n      <defs>\n       <path d=\"M 10.59375 35.5 \nL 73.1875 35.5 \nL 73.1875 27.203125 \nL 10.59375 27.203125 \nz\n\" id=\"DejaVuSans-8722\"/>\n       <path d=\"M 8.203125 72.90625 \nL 55.078125 72.90625 \nL 55.078125 68.703125 \nL 28.609375 0 \nL 18.3125 0 \nL 43.21875 64.59375 \nL 8.203125 64.59375 \nz\n\" id=\"DejaVuSans-55\"/>\n       <path d=\"M 10.6875 12.40625 \nL 21 12.40625 \nL 21 0 \nL 10.6875 0 \nz\n\" id=\"DejaVuSans-46\"/>\n       <path d=\"M 10.796875 72.90625 \nL 49.515625 72.90625 \nL 49.515625 64.59375 \nL 19.828125 64.59375 \nL 19.828125 46.734375 \nQ 21.96875 47.46875 24.109375 47.828125 \nQ 26.265625 48.1875 28.421875 48.1875 \nQ 40.625 48.1875 47.75 41.5 \nQ 54.890625 34.8125 54.890625 23.390625 \nQ 54.890625 11.625 47.5625 5.09375 \nQ 40.234375 -1.421875 26.90625 -1.421875 \nQ 22.3125 -1.421875 17.546875 -0.640625 \nQ 12.796875 0.140625 7.71875 1.703125 \nL 7.71875 11.625 \nQ 12.109375 9.234375 16.796875 8.0625 \nQ 21.484375 6.890625 26.703125 6.890625 \nQ 35.15625 6.890625 40.078125 11.328125 \nQ 45.015625 15.765625 45.015625 23.390625 \nQ 45.015625 31 40.078125 35.4375 \nQ 35.15625 39.890625 26.703125 39.890625 \nQ 22.75 39.890625 18.8125 39.015625 \nQ 14.890625 38.140625 10.796875 36.28125 \nz\n\" id=\"DejaVuSans-53\"/>\n      </defs>\n      <g transform=\"translate(61.517591 249.836875)scale(0.1 -0.1)\">\n       <use xlink:href=\"#DejaVuSans-8722\"/>\n       <use x=\"83.789062\" xlink:href=\"#DejaVuSans-55\"/>\n       <use x=\"147.412109\" xlink:href=\"#DejaVuSans-46\"/>\n       <use x=\"179.199219\" xlink:href=\"#DejaVuSans-53\"/>\n      </g>\n     </g>\n    </g>\n    <g id=\"xtick_2\">\n     <g id=\"line2d_2\">\n      <g>\n       <use style=\"stroke:#000000;stroke-width:0.8;\" x=\"117.733602\" xlink:href=\"#m1a20e81c39\" y=\"235.238438\"/>\n      </g>\n     </g>\n     <g id=\"text_2\">\n      <!-- −5.0 -->\n      <defs>\n       <path d=\"M 31.78125 66.40625 \nQ 24.171875 66.40625 20.328125 58.90625 \nQ 16.5 51.421875 16.5 36.375 \nQ 16.5 21.390625 20.328125 13.890625 \nQ 24.171875 6.390625 31.78125 6.390625 \nQ 39.453125 6.390625 43.28125 13.890625 \nQ 47.125 21.390625 47.125 36.375 \nQ 47.125 51.421875 43.28125 58.90625 \nQ 39.453125 66.40625 31.78125 66.40625 \nz\nM 31.78125 74.21875 \nQ 44.046875 74.21875 50.515625 64.515625 \nQ 56.984375 54.828125 56.984375 36.375 \nQ 56.984375 17.96875 50.515625 8.265625 \nQ 44.046875 -1.421875 31.78125 -1.421875 \nQ 19.53125 -1.421875 13.0625 8.265625 \nQ 6.59375 17.96875 6.59375 36.375 \nQ 6.59375 54.828125 13.0625 64.515625 \nQ 19.53125 74.21875 31.78125 74.21875 \nz\n\" id=\"DejaVuSans-48\"/>\n      </defs>\n      <g transform=\"translate(105.592196 249.836875)scale(0.1 -0.1)\">\n       <use xlink:href=\"#DejaVuSans-8722\"/>\n       <use x=\"83.789062\" xlink:href=\"#DejaVuSans-53\"/>\n       <use x=\"147.412109\" xlink:href=\"#DejaVuSans-46\"/>\n       <use x=\"179.199219\" xlink:href=\"#DejaVuSans-48\"/>\n      </g>\n     </g>\n    </g>\n    <g id=\"xtick_3\">\n     <g id=\"line2d_3\">\n      <g>\n       <use style=\"stroke:#000000;stroke-width:0.8;\" x=\"161.808207\" xlink:href=\"#m1a20e81c39\" y=\"235.238438\"/>\n      </g>\n     </g>\n     <g id=\"text_3\">\n      <!-- −2.5 -->\n      <defs>\n       <path d=\"M 19.1875 8.296875 \nL 53.609375 8.296875 \nL 53.609375 0 \nL 7.328125 0 \nL 7.328125 8.296875 \nQ 12.9375 14.109375 22.625 23.890625 \nQ 32.328125 33.6875 34.8125 36.53125 \nQ 39.546875 41.84375 41.421875 45.53125 \nQ 43.3125 49.21875 43.3125 52.78125 \nQ 43.3125 58.59375 39.234375 62.25 \nQ 35.15625 65.921875 28.609375 65.921875 \nQ 23.96875 65.921875 18.8125 64.3125 \nQ 13.671875 62.703125 7.8125 59.421875 \nL 7.8125 69.390625 \nQ 13.765625 71.78125 18.9375 73 \nQ 24.125 74.21875 28.421875 74.21875 \nQ 39.75 74.21875 46.484375 68.546875 \nQ 53.21875 62.890625 53.21875 53.421875 \nQ 53.21875 48.921875 51.53125 44.890625 \nQ 49.859375 40.875 45.40625 35.40625 \nQ 44.1875 33.984375 37.640625 27.21875 \nQ 31.109375 20.453125 19.1875 8.296875 \nz\n\" id=\"DejaVuSans-50\"/>\n      </defs>\n      <g transform=\"translate(149.666801 249.836875)scale(0.1 -0.1)\">\n       <use xlink:href=\"#DejaVuSans-8722\"/>\n       <use x=\"83.789062\" xlink:href=\"#DejaVuSans-50\"/>\n       <use x=\"147.412109\" xlink:href=\"#DejaVuSans-46\"/>\n       <use x=\"179.199219\" xlink:href=\"#DejaVuSans-53\"/>\n      </g>\n     </g>\n    </g>\n    <g id=\"xtick_4\">\n     <g id=\"line2d_4\">\n      <g>\n       <use style=\"stroke:#000000;stroke-width:0.8;\" x=\"205.882812\" xlink:href=\"#m1a20e81c39\" y=\"235.238438\"/>\n      </g>\n     </g>\n     <g id=\"text_4\">\n      <!-- 0.0 -->\n      <g transform=\"translate(197.931249 249.836875)scale(0.1 -0.1)\">\n       <use xlink:href=\"#DejaVuSans-48\"/>\n       <use x=\"63.623047\" xlink:href=\"#DejaVuSans-46\"/>\n       <use x=\"95.410156\" xlink:href=\"#DejaVuSans-48\"/>\n      </g>\n     </g>\n    </g>\n    <g id=\"xtick_5\">\n     <g id=\"line2d_5\">\n      <g>\n       <use style=\"stroke:#000000;stroke-width:0.8;\" x=\"249.957416\" xlink:href=\"#m1a20e81c39\" y=\"235.238438\"/>\n      </g>\n     </g>\n     <g id=\"text_5\">\n      <!-- 2.5 -->\n      <g transform=\"translate(242.005854 249.836875)scale(0.1 -0.1)\">\n       <use xlink:href=\"#DejaVuSans-50\"/>\n       <use x=\"63.623047\" xlink:href=\"#DejaVuSans-46\"/>\n       <use x=\"95.410156\" xlink:href=\"#DejaVuSans-53\"/>\n      </g>\n     </g>\n    </g>\n    <g id=\"xtick_6\">\n     <g id=\"line2d_6\">\n      <g>\n       <use style=\"stroke:#000000;stroke-width:0.8;\" x=\"294.032021\" xlink:href=\"#m1a20e81c39\" y=\"235.238438\"/>\n      </g>\n     </g>\n     <g id=\"text_6\">\n      <!-- 5.0 -->\n      <g transform=\"translate(286.080459 249.836875)scale(0.1 -0.1)\">\n       <use xlink:href=\"#DejaVuSans-53\"/>\n       <use x=\"63.623047\" xlink:href=\"#DejaVuSans-46\"/>\n       <use x=\"95.410156\" xlink:href=\"#DejaVuSans-48\"/>\n      </g>\n     </g>\n    </g>\n    <g id=\"xtick_7\">\n     <g id=\"line2d_7\">\n      <g>\n       <use style=\"stroke:#000000;stroke-width:0.8;\" x=\"338.106626\" xlink:href=\"#m1a20e81c39\" y=\"235.238438\"/>\n      </g>\n     </g>\n     <g id=\"text_7\">\n      <!-- 7.5 -->\n      <g transform=\"translate(330.155063 249.836875)scale(0.1 -0.1)\">\n       <use xlink:href=\"#DejaVuSans-55\"/>\n       <use x=\"63.623047\" xlink:href=\"#DejaVuSans-46\"/>\n       <use x=\"95.410156\" xlink:href=\"#DejaVuSans-53\"/>\n      </g>\n     </g>\n    </g>\n    <g id=\"text_8\">\n     <!-- 1e7 -->\n     <defs>\n      <path d=\"M 12.40625 8.296875 \nL 28.515625 8.296875 \nL 28.515625 63.921875 \nL 10.984375 60.40625 \nL 10.984375 69.390625 \nL 28.421875 72.90625 \nL 38.28125 72.90625 \nL 38.28125 8.296875 \nL 54.390625 8.296875 \nL 54.390625 0 \nL 12.40625 0 \nz\n\" id=\"DejaVuSans-49\"/>\n      <path d=\"M 56.203125 29.59375 \nL 56.203125 25.203125 \nL 14.890625 25.203125 \nQ 15.484375 15.921875 20.484375 11.0625 \nQ 25.484375 6.203125 34.421875 6.203125 \nQ 39.59375 6.203125 44.453125 7.46875 \nQ 49.3125 8.734375 54.109375 11.28125 \nL 54.109375 2.78125 \nQ 49.265625 0.734375 44.1875 -0.34375 \nQ 39.109375 -1.421875 33.890625 -1.421875 \nQ 20.796875 -1.421875 13.15625 6.1875 \nQ 5.515625 13.8125 5.515625 26.8125 \nQ 5.515625 40.234375 12.765625 48.109375 \nQ 20.015625 56 32.328125 56 \nQ 43.359375 56 49.78125 48.890625 \nQ 56.203125 41.796875 56.203125 29.59375 \nz\nM 47.21875 32.234375 \nQ 47.125 39.59375 43.09375 43.984375 \nQ 39.0625 48.390625 32.421875 48.390625 \nQ 24.90625 48.390625 20.390625 44.140625 \nQ 15.875 39.890625 15.1875 32.171875 \nz\n\" id=\"DejaVuSans-101\"/>\n     </defs>\n     <g transform=\"translate(354.404688 262.515)scale(0.1 -0.1)\">\n      <use xlink:href=\"#DejaVuSans-49\"/>\n      <use x=\"63.623047\" xlink:href=\"#DejaVuSans-101\"/>\n      <use x=\"125.146484\" xlink:href=\"#DejaVuSans-55\"/>\n     </g>\n    </g>\n   </g>\n   <g id=\"matplotlib.axis_2\">\n    <g id=\"ytick_1\">\n     <g id=\"line2d_8\">\n      <defs>\n       <path d=\"M 0 0 \nL -3.5 0 \n\" id=\"m5fc3845648\" style=\"stroke:#000000;stroke-width:0.8;\"/>\n      </defs>\n      <g>\n       <use style=\"stroke:#000000;stroke-width:0.8;\" x=\"38.482813\" xlink:href=\"#m5fc3845648\" y=\"212.392829\"/>\n      </g>\n     </g>\n     <g id=\"text_9\">\n      <!-- −7.5 -->\n      <g transform=\"translate(7.2 216.192048)scale(0.1 -0.1)\">\n       <use xlink:href=\"#DejaVuSans-8722\"/>\n       <use x=\"83.789062\" xlink:href=\"#DejaVuSans-55\"/>\n       <use x=\"147.412109\" xlink:href=\"#DejaVuSans-46\"/>\n       <use x=\"179.199219\" xlink:href=\"#DejaVuSans-53\"/>\n      </g>\n     </g>\n    </g>\n    <g id=\"ytick_2\">\n     <g id=\"line2d_9\">\n      <g>\n       <use style=\"stroke:#000000;stroke-width:0.8;\" x=\"38.482813\" xlink:href=\"#m5fc3845648\" y=\"183.768032\"/>\n      </g>\n     </g>\n     <g id=\"text_10\">\n      <!-- −5.0 -->\n      <g transform=\"translate(7.2 187.567251)scale(0.1 -0.1)\">\n       <use xlink:href=\"#DejaVuSans-8722\"/>\n       <use x=\"83.789062\" xlink:href=\"#DejaVuSans-53\"/>\n       <use x=\"147.412109\" xlink:href=\"#DejaVuSans-46\"/>\n       <use x=\"179.199219\" xlink:href=\"#DejaVuSans-48\"/>\n      </g>\n     </g>\n    </g>\n    <g id=\"ytick_3\">\n     <g id=\"line2d_10\">\n      <g>\n       <use style=\"stroke:#000000;stroke-width:0.8;\" x=\"38.482813\" xlink:href=\"#m5fc3845648\" y=\"155.143235\"/>\n      </g>\n     </g>\n     <g id=\"text_11\">\n      <!-- −2.5 -->\n      <g transform=\"translate(7.2 158.942454)scale(0.1 -0.1)\">\n       <use xlink:href=\"#DejaVuSans-8722\"/>\n       <use x=\"83.789062\" xlink:href=\"#DejaVuSans-50\"/>\n       <use x=\"147.412109\" xlink:href=\"#DejaVuSans-46\"/>\n       <use x=\"179.199219\" xlink:href=\"#DejaVuSans-53\"/>\n      </g>\n     </g>\n    </g>\n    <g id=\"ytick_4\">\n     <g id=\"line2d_11\">\n      <g>\n       <use style=\"stroke:#000000;stroke-width:0.8;\" x=\"38.482813\" xlink:href=\"#m5fc3845648\" y=\"126.518438\"/>\n      </g>\n     </g>\n     <g id=\"text_12\">\n      <!-- 0.0 -->\n      <g transform=\"translate(15.579688 130.317657)scale(0.1 -0.1)\">\n       <use xlink:href=\"#DejaVuSans-48\"/>\n       <use x=\"63.623047\" xlink:href=\"#DejaVuSans-46\"/>\n       <use x=\"95.410156\" xlink:href=\"#DejaVuSans-48\"/>\n      </g>\n     </g>\n    </g>\n    <g id=\"ytick_5\">\n     <g id=\"line2d_12\">\n      <g>\n       <use style=\"stroke:#000000;stroke-width:0.8;\" x=\"38.482813\" xlink:href=\"#m5fc3845648\" y=\"97.893641\"/>\n      </g>\n     </g>\n     <g id=\"text_13\">\n      <!-- 2.5 -->\n      <g transform=\"translate(15.579688 101.69286)scale(0.1 -0.1)\">\n       <use xlink:href=\"#DejaVuSans-50\"/>\n       <use x=\"63.623047\" xlink:href=\"#DejaVuSans-46\"/>\n       <use x=\"95.410156\" xlink:href=\"#DejaVuSans-53\"/>\n      </g>\n     </g>\n    </g>\n    <g id=\"ytick_6\">\n     <g id=\"line2d_13\">\n      <g>\n       <use style=\"stroke:#000000;stroke-width:0.8;\" x=\"38.482813\" xlink:href=\"#m5fc3845648\" y=\"69.268844\"/>\n      </g>\n     </g>\n     <g id=\"text_14\">\n      <!-- 5.0 -->\n      <g transform=\"translate(15.579688 73.068063)scale(0.1 -0.1)\">\n       <use xlink:href=\"#DejaVuSans-53\"/>\n       <use x=\"63.623047\" xlink:href=\"#DejaVuSans-46\"/>\n       <use x=\"95.410156\" xlink:href=\"#DejaVuSans-48\"/>\n      </g>\n     </g>\n    </g>\n    <g id=\"ytick_7\">\n     <g id=\"line2d_14\">\n      <g>\n       <use style=\"stroke:#000000;stroke-width:0.8;\" x=\"38.482813\" xlink:href=\"#m5fc3845648\" y=\"40.644047\"/>\n      </g>\n     </g>\n     <g id=\"text_15\">\n      <!-- 7.5 -->\n      <g transform=\"translate(15.579688 44.443266)scale(0.1 -0.1)\">\n       <use xlink:href=\"#DejaVuSans-55\"/>\n       <use x=\"63.623047\" xlink:href=\"#DejaVuSans-46\"/>\n       <use x=\"95.410156\" xlink:href=\"#DejaVuSans-53\"/>\n      </g>\n     </g>\n    </g>\n    <g id=\"text_16\">\n     <!-- 1e7 -->\n     <g transform=\"translate(38.482813 14.798437)scale(0.1 -0.1)\">\n      <use xlink:href=\"#DejaVuSans-49\"/>\n      <use x=\"63.623047\" xlink:href=\"#DejaVuSans-101\"/>\n      <use x=\"125.146484\" xlink:href=\"#DejaVuSans-55\"/>\n     </g>\n    </g>\n   </g>\n   <g id=\"line2d_15\"/>\n   <g id=\"line2d_16\"/>\n   <g id=\"line2d_17\"/>\n   <g id=\"line2d_18\"/>\n   <g id=\"line2d_19\"/>\n   <g id=\"line2d_20\"/>\n   <g id=\"line2d_21\"/>\n   <g id=\"line2d_22\"/>\n   <g id=\"line2d_23\"/>\n   <g id=\"line2d_24\"/>\n   <g id=\"line2d_25\"/>\n   <g id=\"line2d_26\"/>\n   <g id=\"line2d_27\"/>\n   <g id=\"line2d_28\"/>\n   <g id=\"line2d_29\"/>\n   <g id=\"line2d_30\"/>\n   <g id=\"line2d_31\"/>\n   <g id=\"line2d_32\"/>\n   <g id=\"line2d_33\"/>\n   <g id=\"line2d_34\"/>\n   <g id=\"line2d_35\"/>\n   <g id=\"line2d_36\"/>\n   <g id=\"line2d_37\"/>\n   <g id=\"line2d_38\"/>\n   <g id=\"line2d_39\"/>\n   <g id=\"line2d_40\"/>\n   <g id=\"line2d_41\"/>\n   <g id=\"line2d_42\"/>\n   <g id=\"line2d_43\"/>\n   <g id=\"line2d_44\"/>\n   <g id=\"line2d_45\"/>\n   <g id=\"line2d_46\"/>\n   <g id=\"line2d_47\"/>\n   <g id=\"line2d_48\"/>\n   <g id=\"line2d_49\"/>\n   <g id=\"line2d_50\"/>\n   <g id=\"line2d_51\"/>\n   <g id=\"line2d_52\"/>\n   <g id=\"line2d_53\"/>\n   <g id=\"line2d_54\"/>\n   <g id=\"line2d_55\"/>\n   <g id=\"line2d_56\"/>\n   <g id=\"line2d_57\"/>\n   <g id=\"line2d_58\"/>\n   <g id=\"line2d_59\"/>\n   <g id=\"line2d_60\"/>\n   <g id=\"line2d_61\"/>\n   <g id=\"line2d_62\"/>\n   <g id=\"line2d_63\"/>\n   <g id=\"line2d_64\"/>\n   <g id=\"line2d_65\"/>\n   <g id=\"line2d_66\"/>\n   <g id=\"line2d_67\"/>\n   <g id=\"line2d_68\"/>\n   <g id=\"line2d_69\"/>\n   <g id=\"line2d_70\"/>\n   <g id=\"line2d_71\"/>\n   <g id=\"line2d_72\"/>\n   <g id=\"line2d_73\"/>\n   <g id=\"line2d_74\"/>\n   <g id=\"line2d_75\"/>\n   <g id=\"line2d_76\"/>\n   <g id=\"line2d_77\"/>\n   <g id=\"line2d_78\"/>\n   <g id=\"line2d_79\"/>\n   <g id=\"line2d_80\"/>\n   <g id=\"line2d_81\"/>\n   <g id=\"line2d_82\"/>\n   <g id=\"line2d_83\"/>\n   <g id=\"line2d_84\"/>\n   <g id=\"line2d_85\"/>\n   <g id=\"line2d_86\"/>\n   <g id=\"line2d_87\"/>\n   <g id=\"line2d_88\"/>\n   <g id=\"line2d_89\"/>\n   <g id=\"line2d_90\"/>\n   <g id=\"line2d_91\"/>\n   <g id=\"line2d_92\"/>\n   <g id=\"line2d_93\"/>\n   <g id=\"line2d_94\"/>\n   <g id=\"line2d_95\"/>\n   <g id=\"line2d_96\"/>\n   <g id=\"line2d_97\"/>\n   <g id=\"line2d_98\"/>\n   <g id=\"line2d_99\"/>\n   <g id=\"line2d_100\"/>\n   <g id=\"line2d_101\"/>\n   <g id=\"line2d_102\"/>\n   <g id=\"line2d_103\"/>\n   <g id=\"line2d_104\"/>\n   <g id=\"line2d_105\"/>\n   <g id=\"line2d_106\"/>\n   <g id=\"line2d_107\"/>\n   <g id=\"line2d_108\"/>\n   <g id=\"line2d_109\"/>\n   <g id=\"line2d_110\"/>\n   <g id=\"line2d_111\"/>\n   <g id=\"line2d_112\"/>\n   <g id=\"line2d_113\"/>\n   <g id=\"line2d_114\"/>\n   <g id=\"line2d_115\"/>\n   <g id=\"line2d_116\"/>\n   <g id=\"line2d_117\"/>\n   <g id=\"line2d_118\"/>\n   <g id=\"line2d_119\"/>\n   <g id=\"line2d_120\"/>\n   <g id=\"line2d_121\"/>\n   <g id=\"line2d_122\"/>\n   <g id=\"line2d_123\"/>\n   <g id=\"line2d_124\"/>\n   <g id=\"line2d_125\"/>\n   <g id=\"line2d_126\"/>\n   <g id=\"line2d_127\"/>\n   <g id=\"line2d_128\"/>\n   <g id=\"line2d_129\"/>\n   <g id=\"line2d_130\"/>\n   <g id=\"line2d_131\"/>\n   <g id=\"line2d_132\"/>\n   <g id=\"line2d_133\"/>\n   <g id=\"line2d_134\"/>\n   <g id=\"line2d_135\"/>\n   <g id=\"line2d_136\"/>\n   <g id=\"line2d_137\"/>\n   <g id=\"line2d_138\"/>\n   <g id=\"line2d_139\"/>\n   <g id=\"line2d_140\"/>\n   <g id=\"line2d_141\"/>\n   <g id=\"line2d_142\"/>\n   <g id=\"line2d_143\"/>\n   <g id=\"line2d_144\"/>\n   <g id=\"line2d_145\"/>\n   <g id=\"line2d_146\"/>\n   <g id=\"line2d_147\"/>\n   <g id=\"line2d_148\"/>\n   <g id=\"line2d_149\"/>\n   <g id=\"line2d_150\"/>\n   <g id=\"line2d_151\"/>\n   <g id=\"line2d_152\"/>\n   <g id=\"line2d_153\"/>\n   <g id=\"line2d_154\"/>\n   <g id=\"line2d_155\"/>\n   <g id=\"line2d_156\"/>\n   <g id=\"line2d_157\"/>\n   <g id=\"line2d_158\"/>\n   <g id=\"line2d_159\"/>\n   <g id=\"line2d_160\"/>\n   <g id=\"line2d_161\"/>\n   <g id=\"line2d_162\"/>\n   <g id=\"line2d_163\"/>\n   <g id=\"line2d_164\"/>\n   <g id=\"line2d_165\"/>\n   <g id=\"line2d_166\"/>\n   <g id=\"line2d_167\"/>\n   <g id=\"line2d_168\"/>\n   <g id=\"line2d_169\"/>\n   <g id=\"line2d_170\"/>\n   <g id=\"line2d_171\"/>\n   <g id=\"line2d_172\"/>\n   <g id=\"line2d_173\"/>\n   <g id=\"line2d_174\"/>\n   <g id=\"line2d_175\"/>\n   <g id=\"line2d_176\"/>\n   <g id=\"line2d_177\"/>\n   <g id=\"line2d_178\"/>\n   <g id=\"line2d_179\"/>\n   <g id=\"line2d_180\"/>\n   <g id=\"line2d_181\"/>\n   <g id=\"line2d_182\"/>\n   <g id=\"line2d_183\"/>\n   <g id=\"line2d_184\"/>\n   <g id=\"line2d_185\"/>\n   <g id=\"line2d_186\"/>\n   <g id=\"line2d_187\"/>\n   <g id=\"line2d_188\"/>\n   <g id=\"line2d_189\"/>\n   <g id=\"line2d_190\"/>\n   <g id=\"line2d_191\"/>\n   <g id=\"line2d_192\"/>\n   <g id=\"line2d_193\"/>\n   <g id=\"line2d_194\"/>\n   <g id=\"line2d_195\"/>\n   <g id=\"line2d_196\"/>\n   <g id=\"line2d_197\"/>\n   <g id=\"line2d_198\"/>\n   <g id=\"line2d_199\"/>\n   <g id=\"line2d_200\"/>\n   <g id=\"line2d_201\"/>\n   <g id=\"line2d_202\"/>\n   <g id=\"line2d_203\"/>\n   <g id=\"line2d_204\"/>\n   <g id=\"line2d_205\"/>\n   <g id=\"line2d_206\"/>\n   <g id=\"line2d_207\"/>\n   <g id=\"line2d_208\"/>\n   <g id=\"line2d_209\"/>\n   <g id=\"line2d_210\"/>\n   <g id=\"line2d_211\"/>\n   <g id=\"line2d_212\"/>\n   <g id=\"line2d_213\"/>\n   <g id=\"line2d_214\"/>\n   <g id=\"patch_3\">\n    <path d=\"M 38.482813 235.238438 \nL 38.482813 17.798437 \n\" style=\"fill:none;stroke:#000000;stroke-linecap:square;stroke-linejoin:miter;stroke-width:0.8;\"/>\n   </g>\n   <g id=\"patch_4\">\n    <path d=\"M 373.282813 235.238438 \nL 373.282813 17.798437 \n\" style=\"fill:none;stroke:#000000;stroke-linecap:square;stroke-linejoin:miter;stroke-width:0.8;\"/>\n   </g>\n   <g id=\"patch_5\">\n    <path d=\"M 38.482812 235.238438 \nL 373.282812 235.238438 \n\" style=\"fill:none;stroke:#000000;stroke-linecap:square;stroke-linejoin:miter;stroke-width:0.8;\"/>\n   </g>\n   <g id=\"patch_6\">\n    <path d=\"M 38.482812 17.798438 \nL 373.282812 17.798438 \n\" style=\"fill:none;stroke:#000000;stroke-linecap:square;stroke-linejoin:miter;stroke-width:0.8;\"/>\n   </g>\n  </g>\n </g>\n</svg>\n",
            "image/png": "[encoded data removed]"
          },
          "metadata": {
            "needs_background": "light"
          }
        }
      ]
    },
    {
      "cell_type": "code",
      "execution_count": 5,
      "metadata": {},
      "outputs": [
        {
          "output_type": "stream",
          "name": "stdout",
          "text": "Waktu Pemulihan : 38 Hari\n"
        }
      ],
      "source": [
        "i = 1\n",
        "while(infection_individu > 0):\n",
        "  infection_individu = 0\n",
        "  community = []\n",
        "  for j in range(0, n_individu):\n",
        "    old_individu = walk_community[i-1][j]\n",
        "    x = old_individu.x\n",
        "    y = old_individu.y\n",
        "    infected_status = old_individu.infected_status\n",
        "    imunity_status = old_individu.imunity_status\n",
        "    infection_time = old_individu.infection_time\n",
        "\n",
        "    direction = 0\n",
        "    move = random.uniform(0, 1)\n",
        "    if(move <= move_probability):\n",
        "      direction = random.randint(1, 4)\n",
        "\n",
        "    if(direction == 1):\n",
        "      y += 1\n",
        "    elif(direction == 2):\n",
        "      x += 1\n",
        "    elif(direction == 3):\n",
        "      x -= 1\n",
        "    elif(direction == 4):\n",
        "      y -= 1\n",
        "\n",
        "    if(x<x_min):\n",
        "      x = x_max - 1\n",
        "    elif(x>x_max):\n",
        "      x = x_min + 1\n",
        "\n",
        "    if(y<y_min):\n",
        "      y = y_max - 1\n",
        "    elif(x>x_max):\n",
        "      y = y_min + 1\n",
        "\n",
        "    if(infected_status==True):\n",
        "      infection_time += 1\n",
        "      if(infection_time > recovery_time):\n",
        "        imunity_status = True\n",
        "        infected_status = False\n",
        "    else:\n",
        "      for other_individu in community:\n",
        "        if(other_individu.x == x and other_individu.y == y and other_individu.infected_status==True and infected_status==False and imunity_status==False):\n",
        "          infected_status = True\n",
        "\n",
        "    if(infected_status==True):\n",
        "      infection_individu+=1\n",
        "\n",
        "    individu = Individu(x, y, infected_status, imunity_status, infection_time)\n",
        "    community.append(individu)\n",
        "  walk_community.append(community[:])\n",
        "  i+=1\n",
        "\n",
        "print(\"Waktu Pemulihan :\", i, \"Hari\")"
      ]
    }
  ],
  "metadata": {
    "colab": {
      "name": "Code Tubes 2 MOSI.ipynb",
      "provenance": [],
      "collapsed_sections": [],
      "machine_shape": "hm",
      "include_colab_link": true
    },
    "kernelspec": {
      "name": "python3",
      "display_name": "Python 3"
    }
  },
  "nbformat": 4,
  "nbformat_minor": 0
}